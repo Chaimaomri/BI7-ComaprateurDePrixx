{
  "nbformat": 4,
  "nbformat_minor": 0,
  "metadata": {
    "colab": {
      "provenance": []
    },
    "kernelspec": {
      "name": "python3",
      "display_name": "Python 3"
    },
    "language_info": {
      "name": "python"
    }
  },
  "cells": [
    {
      "cell_type": "code",
      "execution_count": 1,
      "metadata": {
        "id": "q1hNs1l5LJk8"
      },
      "outputs": [],
      "source": [
        "import random\n",
        "import pandas as pd\n",
        "from sklearn.model_selection import train_test_split\n",
        "from sklearn.feature_extraction.text import TfidfVectorizer\n",
        "from sklearn.ensemble import RandomForestClassifier\n",
        "from sklearn.metrics import classification_report, confusion_matrix\n",
        "import seaborn as sns\n",
        "import matplotlib.pyplot as plt"
      ]
    },
    {
      "cell_type": "code",
      "source": [
        "\n",
        "# -----------------------\n",
        "# 1. Génération de commentaires variés selon les notes\n",
        "# -----------------------\n",
        "def generate_comment(note):\n",
        "    positive_comments = [\n",
        "        \"Super séjour, tout était parfait.\",\n",
        "        \"Très bon service, chambre propre.\",\n",
        "        \"Le personnel était très accueillant.\",\n",
        "        \"J'ai adoré cet hôtel, tout s'est bien passé.\",\n",
        "        \"Excellent rapport qualité/prix.\",\n",
        "        \"Magnifique vue depuis la chambre.\",\n",
        "        \"Service rapide et efficace.\",\n",
        "        \"Très bon accueil à la réception.\",\n",
        "        \"Je recommande fortement cet endroit.\",\n",
        "        \"Parfait pour un séjour en famille.\"\n",
        "    ]\n",
        "\n",
        "    neutral_comments = [\n",
        "        \"Séjour correct, sans plus.\",\n",
        "        \"C’était moyen, rien de spécial.\",\n",
        "        \"Ni bon ni mauvais.\",\n",
        "        \"Service acceptable, un peu lent.\",\n",
        "        \"Une expérience ordinaire.\",\n",
        "        \"Hôtel correct mais un peu bruyant.\",\n",
        "        \"Pas très impressionné, mais pas déçu non plus.\",\n",
        "        \"Peu de différences par rapport aux autres hôtels.\",\n",
        "        \"Manque de personnalité mais fonctionnel.\",\n",
        "        \"Chambre simple, basique mais propre.\"\n",
        "    ]\n",
        "\n",
        "    negative_comments = [\n",
        "        \"Très mauvaise expérience.\",\n",
        "        \"Chambre sale et personnel peu aimable.\",\n",
        "        \"Déçu par la qualité du service.\",\n",
        "        \"Le vol était en retard, très frustrant.\",\n",
        "        \"Je ne recommande pas cet hôtel.\",\n",
        "        \"Mauvais rapport qualité/prix.\",\n",
        "        \"Beaucoup de bruit toute la nuit.\",\n",
        "        \"Propreté insuffisante.\",\n",
        "        \"Accueil froid et impersonnel.\",\n",
        "        \"Trop cher pour les prestations proposées.\"\n",
        "    ]\n",
        "\n",
        "    phrases = {\n",
        "        1: negative_comments,\n",
        "        2: negative_comments,\n",
        "        3: neutral_comments,\n",
        "        4: positive_comments,\n",
        "        5: positive_comments\n",
        "    }\n",
        "\n",
        "    return random.choice(phrases[note])\n",
        "\n",
        "data = []\n",
        "for _ in range(1000):\n",
        "    note = random.randint(1, 5)\n",
        "    commentaire = generate_comment(note)\n",
        "    if note <= 2:\n",
        "        sentiment = 'négatif'\n",
        "    elif note == 3:\n",
        "        sentiment = 'neutre'\n",
        "    else:\n",
        "        sentiment = 'positif'\n",
        "    data.append({'note': note, 'commentaire': commentaire, 'sentiment': sentiment})\n",
        "\n",
        "df = pd.DataFrame(data)\n"
      ],
      "metadata": {
        "id": "gkbWJnqiLPDA"
      },
      "execution_count": 2,
      "outputs": []
    },
    {
      "cell_type": "code",
      "source": [
        "# 2. Préparation des données\n",
        "X = df['commentaire']\n",
        "y = df['sentiment']\n",
        "\n",
        "# Vectorisation du texte\n",
        "vectorizer = TfidfVectorizer()\n",
        "X_vect = vectorizer.fit_transform(X)\n",
        "\n",
        "# Split en train/test\n",
        "X_train, X_test, y_train, y_test = train_test_split(X_vect, y, test_size=0.2, random_state=42)\n"
      ],
      "metadata": {
        "id": "om9f9aNILbzf"
      },
      "execution_count": 3,
      "outputs": []
    },
    {
      "cell_type": "code",
      "source": [
        "# 3. Modèle\n",
        "# -----------------------\n",
        "model = RandomForestClassifier(n_estimators=100, random_state=42)\n",
        "model.fit(X_train, y_train)\n",
        "\n",
        "# -----------------------\n",
        "# 4. Évaluation\n",
        "# -----------------------\n",
        "y_pred = model.predict(X_test)\n",
        "print(classification_report(y_test, y_pred))"
      ],
      "metadata": {
        "colab": {
          "base_uri": "https://localhost:8080/"
        },
        "id": "Jq9PtVirLjLD",
        "outputId": "ba2636ca-5119-4922-f64b-3a5827bf48ab"
      },
      "execution_count": 4,
      "outputs": [
        {
          "output_type": "stream",
          "name": "stdout",
          "text": [
            "              precision    recall  f1-score   support\n",
            "\n",
            "      neutre       1.00      1.00      1.00        37\n",
            "     négatif       1.00      1.00      1.00        78\n",
            "     positif       1.00      1.00      1.00        85\n",
            "\n",
            "    accuracy                           1.00       200\n",
            "   macro avg       1.00      1.00      1.00       200\n",
            "weighted avg       1.00      1.00      1.00       200\n",
            "\n"
          ]
        }
      ]
    },
    {
      "cell_type": "code",
      "source": [
        "# 4. Évaluation\n",
        "y_pred = model.predict(X_test)\n",
        "print(classification_report(y_test, y_pred))\n",
        "\n",
        "# Affichage de la matrice de confusion\n",
        "conf_matrix = confusion_matrix(y_test, y_pred, labels=['négatif', 'neutre', 'positif'])\n",
        "sns.heatmap(conf_matrix, annot=True, fmt='d', xticklabels=['négatif', 'neutre', 'positif'],\n",
        "            yticklabels=['négatif', 'neutre', 'positif'], cmap='Blues')\n",
        "plt.xlabel('Prédit')\n",
        "plt.ylabel('Vrai')\n",
        "plt.title('Matrice de confusion - Analyse sentimentale')\n",
        "plt.show()"
      ],
      "metadata": {
        "colab": {
          "base_uri": "https://localhost:8080/",
          "height": 646
        },
        "id": "eHjPKOpSLqhz",
        "outputId": "52f4c0c7-62c6-4606-e895-6996ace9c109"
      },
      "execution_count": 5,
      "outputs": [
        {
          "output_type": "stream",
          "name": "stdout",
          "text": [
            "              precision    recall  f1-score   support\n",
            "\n",
            "      neutre       1.00      1.00      1.00        37\n",
            "     négatif       1.00      1.00      1.00        78\n",
            "     positif       1.00      1.00      1.00        85\n",
            "\n",
            "    accuracy                           1.00       200\n",
            "   macro avg       1.00      1.00      1.00       200\n",
            "weighted avg       1.00      1.00      1.00       200\n",
            "\n"
          ]
        },
        {
          "output_type": "display_data",
          "data": {
            "text/plain": [
              "<Figure size 640x480 with 2 Axes>"
            ],
            "image/png": "[encoded data removed]"
          },
          "metadata": {}
        }
      ]
    },
    {
      "cell_type": "markdown",
      "source": [
        "79 exemples étaient réellement négatifs → le modèle a correctement prédit \"négatif\".\n",
        "\n",
        "40 exemples étaient neutres → le modèle a correctement prédit \"neutre\".\n",
        "\n",
        "81 exemples étaient positifs → le modèle a correctement prédit \"positif\".\n",
        "\n",
        "Aucune erreur de classification : tous les éléments sont sur la diagonale.\n",
        "\n"
      ],
      "metadata": {
        "id": "7v--w4uE7wmR"
      }
    },
    {
      "cell_type": "code",
      "source": [
        "# -----------------------\n",
        "# 5. Sauvegarde des résultats dans un fichier CSV\n",
        "# -----------------------\n",
        "# Création d'un DataFrame avec les commentaires, les sentiments réels et les sentiments prédits\n",
        "results_df = pd.DataFrame({\n",
        "    'commentaire': X_test.toarray().tolist(),  # X_test est un vecteur sparse, mais on ne peut pas stocker ça directement\n",
        "    'commentaire_texte': vectorizer.inverse_transform(X_test),\n",
        "    'sentiment_réel': y_test.values,\n",
        "    'sentiment_prédit': y_pred\n",
        "})\n",
        "\n",
        "# Remplacer les vecteurs de mots par les commentaires originaux\n",
        "# On peut faire ça proprement en prenant les indices d'origine\n",
        "X_test_comments = X.iloc[y_test.index]  # on retrouve les commentaires originaux\n",
        "results_df['commentaire'] = X_test_comments.values\n",
        "results_df.drop(columns=['commentaire_texte'], inplace=True)\n",
        "\n",
        "# Enregistrement dans un fichier CSV\n",
        "results_df.to_csv(\"resultats_analyse_sentimentale.csv\", index=False, encoding='utf-8')\n",
        "print(\"Résultats sauvegardés dans 'resultats_analyse_sentimentale.csv'\")\n"
      ],
      "metadata": {
        "colab": {
          "base_uri": "https://localhost:8080/"
        },
        "id": "qI60CI7I4fYa",
        "outputId": "c6705672-5ae4-4fe9-b3a0-ca3cf2e165a3"
      },
      "execution_count": 6,
      "outputs": [
        {
          "output_type": "stream",
          "name": "stdout",
          "text": [
            "Résultats sauvegardés dans 'resultats_analyse_sentimentale.csv'\n"
          ]
        }
      ]
    },
    {
      "cell_type": "code",
      "source": [
        "results_df.to_csv(\"resultats_analyse_sentimentale.csv\", index=False, encoding='utf-8-sig', sep=';')\n"
      ],
      "metadata": {
        "id": "0l_hC7NL44vX"
      },
      "execution_count": 8,
      "outputs": []
    }
  ]
}