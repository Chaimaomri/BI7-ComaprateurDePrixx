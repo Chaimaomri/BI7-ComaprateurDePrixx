{
  "cells": [
    {
      "cell_type": "code",
      "execution_count": 4,
      "metadata": {
        "id": "xe-DQM5-4DyE"
      },
      "outputs": [],
      "source": [
        "import pandas as pd\n",
        "from sklearn.preprocessing import StandardScaler\n",
        "from sklearn.cluster import KMeans\n",
        "from sklearn.decomposition import PCA\n",
        "import matplotlib.pyplot as plt\n",
        "import seaborn as sns"
      ]
    },
    {
      "cell_type": "code",
      "execution_count": null,
      "metadata": {
        "colab": {
          "base_uri": "https://localhost:8080/",
          "height": 175
        },
        "id": "o2T2ldXh4elW",
        "outputId": "1735a7e8-7cc4-455a-d7cd-c82bfd49dfe3"
      },
      "outputs": [
        {
          "output_type": "display_data",
          "data": {
            "text/plain": [
              "<IPython.core.display.HTML object>"
            ],
            "text/html": [
              "\n",
              "     <input type=\"file\" id=\"files-d2eea3fe-4b15-4acd-8905-6776f797835d\" name=\"files[]\" multiple disabled\n",
              "        style=\"border:none\" />\n",
              "     <output id=\"result-d2eea3fe-4b15-4acd-8905-6776f797835d\">\n",
              "      Upload widget is only available when the cell has been executed in the\n",
              "      current browser session. Please rerun this cell to enable.\n",
              "      </output>\n",
              "      <script>// Copyright 2017 Google LLC\n",
              "//\n",
              "// Licensed under the Apache License, Version 2.0 (the \"License\");\n",
              "// you may not use this file except in compliance with the License.\n",
              "// You may obtain a copy of the License at\n",
              "//\n",
              "//      http://www.apache.org/licenses/LICENSE-2.0\n",
              "//\n",
              "// Unless required by applicable law or agreed to in writing, software\n",
              "// distributed under the License is distributed on an \"AS IS\" BASIS,\n",
              "// WITHOUT WARRANTIES OR CONDITIONS OF ANY KIND, either express or implied.\n",
              "// See the License for the specific language governing permissions and\n",
              "// limitations under the License.\n",
              "\n",
              "/**\n",
              " * @fileoverview Helpers for google.colab Python module.\n",
              " */\n",
              "(function(scope) {\n",
              "function span(text, styleAttributes = {}) {\n",
              "  const element = document.createElement('span');\n",
              "  element.textContent = text;\n",
              "  for (const key of Object.keys(styleAttributes)) {\n",
              "    element.style[key] = styleAttributes[key];\n",
              "  }\n",
              "  return element;\n",
              "}\n",
              "\n",
              "// Max number of bytes which will be uploaded at a time.\n",
              "const MAX_PAYLOAD_SIZE = 100 * 1024;\n",
              "\n",
              "function _uploadFiles(inputId, outputId) {\n",
              "  const steps = uploadFilesStep(inputId, outputId);\n",
              "  const outputElement = document.getElementById(outputId);\n",
              "  // Cache steps on the outputElement to make it available for the next call\n",
              "  // to uploadFilesContinue from Python.\n",
              "  outputElement.steps = steps;\n",
              "\n",
              "  return _uploadFilesContinue(outputId);\n",
              "}\n",
              "\n",
              "// This is roughly an async generator (not supported in the browser yet),\n",
              "// where there are multiple asynchronous steps and the Python side is going\n",
              "// to poll for completion of each step.\n",
              "// This uses a Promise to block the python side on completion of each step,\n",
              "// then passes the result of the previous step as the input to the next step.\n",
              "function _uploadFilesContinue(outputId) {\n",
              "  const outputElement = document.getElementById(outputId);\n",
              "  const steps = outputElement.steps;\n",
              "\n",
              "  const next = steps.next(outputElement.lastPromiseValue);\n",
              "  return Promise.resolve(next.value.promise).then((value) => {\n",
              "    // Cache the last promise value to make it available to the next\n",
              "    // step of the generator.\n",
              "    outputElement.lastPromiseValue = value;\n",
              "    return next.value.response;\n",
              "  });\n",
              "}\n",
              "\n",
              "/**\n",
              " * Generator function which is called between each async step of the upload\n",
              " * process.\n",
              " * @param {string} inputId Element ID of the input file picker element.\n",
              " * @param {string} outputId Element ID of the output display.\n",
              " * @return {!Iterable<!Object>} Iterable of next steps.\n",
              " */\n",
              "function* uploadFilesStep(inputId, outputId) {\n",
              "  const inputElement = document.getElementById(inputId);\n",
              "  inputElement.disabled = false;\n",
              "\n",
              "  const outputElement = document.getElementById(outputId);\n",
              "  outputElement.innerHTML = '';\n",
              "\n",
              "  const pickedPromise = new Promise((resolve) => {\n",
              "    inputElement.addEventListener('change', (e) => {\n",
              "      resolve(e.target.files);\n",
              "    });\n",
              "  });\n",
              "\n",
              "  const cancel = document.createElement('button');\n",
              "  inputElement.parentElement.appendChild(cancel);\n",
              "  cancel.textContent = 'Cancel upload';\n",
              "  const cancelPromise = new Promise((resolve) => {\n",
              "    cancel.onclick = () => {\n",
              "      resolve(null);\n",
              "    };\n",
              "  });\n",
              "\n",
              "  // Wait for the user to pick the files.\n",
              "  const files = yield {\n",
              "    promise: Promise.race([pickedPromise, cancelPromise]),\n",
              "    response: {\n",
              "      action: 'starting',\n",
              "    }\n",
              "  };\n",
              "\n",
              "  cancel.remove();\n",
              "\n",
              "  // Disable the input element since further picks are not allowed.\n",
              "  inputElement.disabled = true;\n",
              "\n",
              "  if (!files) {\n",
              "    return {\n",
              "      response: {\n",
              "        action: 'complete',\n",
              "      }\n",
              "    };\n",
              "  }\n",
              "\n",
              "  for (const file of files) {\n",
              "    const li = document.createElement('li');\n",
              "    li.append(span(file.name, {fontWeight: 'bold'}));\n",
              "    li.append(span(\n",
              "        `(${file.type || 'n/a'}) - ${file.size} bytes, ` +\n",
              "        `last modified: ${\n",
              "            file.lastModifiedDate ? file.lastModifiedDate.toLocaleDateString() :\n",
              "                                    'n/a'} - `));\n",
              "    const percent = span('0% done');\n",
              "    li.appendChild(percent);\n",
              "\n",
              "    outputElement.appendChild(li);\n",
              "\n",
              "    const fileDataPromise = new Promise((resolve) => {\n",
              "      const reader = new FileReader();\n",
              "      reader.onload = (e) => {\n",
              "        resolve(e.target.result);\n",
              "      };\n",
              "      reader.readAsArrayBuffer(file);\n",
              "    });\n",
              "    // Wait for the data to be ready.\n",
              "    let fileData = yield {\n",
              "      promise: fileDataPromise,\n",
              "      response: {\n",
              "        action: 'continue',\n",
              "      }\n",
              "    };\n",
              "\n",
              "    // Use a chunked sending to avoid message size limits. See b/62115660.\n",
              "    let position = 0;\n",
              "    do {\n",
              "      const length = Math.min(fileData.byteLength - position, MAX_PAYLOAD_SIZE);\n",
              "      const chunk = new Uint8Array(fileData, position, length);\n",
              "      position += length;\n",
              "\n",
              "      const base64 = btoa(String.fromCharCode.apply(null, chunk));\n",
              "      yield {\n",
              "        response: {\n",
              "          action: 'append',\n",
              "          file: file.name,\n",
              "          data: base64,\n",
              "        },\n",
              "      };\n",
              "\n",
              "      let percentDone = fileData.byteLength === 0 ?\n",
              "          100 :\n",
              "          Math.round((position / fileData.byteLength) * 100);\n",
              "      percent.textContent = `${percentDone}% done`;\n",
              "\n",
              "    } while (position < fileData.byteLength);\n",
              "  }\n",
              "\n",
              "  // All done.\n",
              "  yield {\n",
              "    response: {\n",
              "      action: 'complete',\n",
              "    }\n",
              "  };\n",
              "}\n",
              "\n",
              "scope.google = scope.google || {};\n",
              "scope.google.colab = scope.google.colab || {};\n",
              "scope.google.colab._files = {\n",
              "  _uploadFiles,\n",
              "  _uploadFilesContinue,\n",
              "};\n",
              "})(self);\n",
              "</script> "
            ]
          },
          "metadata": {}
        },
        {
          "output_type": "stream",
          "name": "stdout",
          "text": [
            "Saving Achat.csv to Achat.csv\n",
            "Saving Dim_Clients.csv to Dim_Clients.csv\n",
            "Saving Dim_Temps.csv to Dim_Temps.csv\n",
            "Saving Fait_Reservations.csv to Fait_Reservations.csv\n"
          ]
        }
      ],
      "source": [
        "from google.colab import files\n",
        "uploaded = files.upload()"
      ]
    },
    {
      "cell_type": "markdown",
      "source": [],
      "metadata": {
        "id": "sJCjAgzexH88"
      }
    },
    {
      "cell_type": "code",
      "execution_count": 5,
      "metadata": {
        "id": "jRjgEpG_4wZd"
      },
      "outputs": [],
      "source": [
        "df_faitAchat = pd.read_csv('Achat.csv', encoding='ISO-8859-1')"
      ]
    },
    {
      "cell_type": "code",
      "execution_count": 6,
      "metadata": {
        "id": "0pQx4KtU4zAU"
      },
      "outputs": [],
      "source": [
        "df_clients = pd.read_csv('Dim_Clients.csv', encoding='ISO-8859-1')"
      ]
    },
    {
      "cell_type": "code",
      "execution_count": 7,
      "metadata": {
        "id": "nhJQo0cP43jk"
      },
      "outputs": [],
      "source": [
        "df_temps = pd.read_csv('Dim_Temps.csv', encoding='ISO-8859-1')"
      ]
    },
    {
      "cell_type": "code",
      "execution_count": 8,
      "metadata": {
        "id": "qd04IiFj5gja"
      },
      "outputs": [],
      "source": [
        "df_faitReservation = pd.read_csv('Fait_Reservations.csv', encoding='ISO-8859-1')"
      ]
    },
    {
      "cell_type": "code",
      "execution_count": 9,
      "metadata": {
        "id": "SgxuHIZh7FbP"
      },
      "outputs": [],
      "source": [
        "# 2. Préparation des données agrégées (indicateurs par client)\n",
        "# -- Montant total des achats, nombre d’achats\n",
        "achat_stats = df_faitAchat.groupby('Client_FK').agg(\n",
        "    montant_total_achat=pd.NamedAgg(column='Prix_Total', aggfunc='sum'),\n",
        "    nb_achats=pd.NamedAgg(column='AchatID_PK', aggfunc='count')\n",
        ").reset_index()"
      ]
    },
    {
      "cell_type": "code",
      "execution_count": 10,
      "metadata": {
        "id": "HQ-hQbc17JiV"
      },
      "outputs": [],
      "source": [
        "# -- Statistiques de réservation\n",
        "reservation_stats = df_faitReservation.groupby('ClientID_FK').agg(\n",
        "    montant_total_reservation=pd.NamedAgg(column='Total_Prix', aggfunc='sum'),\n",
        "    nb_reservations=pd.NamedAgg(column='Reservation_PK', aggfunc='count'),\n",
        "    note_moyenne=pd.NamedAgg(column='Note_Client', aggfunc='mean')\n",
        ").reset_index()"
      ]
    },
    {
      "cell_type": "code",
      "execution_count": 11,
      "metadata": {
        "id": "kw-DingL7QVx"
      },
      "outputs": [],
      "source": [
        "# -- Nombre de jours de voyage si Dates disponibles (on suppose que c'est la même date aller-retour, juste pour exemple)\n",
        "df_faitReservation = df_faitReservation.merge(df_temps, left_on='Temps_FK', right_on='TempsID')\n",
        "voyage_stats = df_faitReservation.groupby('ClientID_FK').agg(\n",
        "    nb_jours_voyage=pd.NamedAgg(column='Date_Complète', aggfunc='nunique')  # approximation\n",
        ").reset_index()"
      ]
    },
    {
      "cell_type": "code",
      "execution_count": 12,
      "metadata": {
        "id": "_MzH6AG57U1f"
      },
      "outputs": [],
      "source": [
        "# 3. Fusionner les statistiques\n",
        "df_final = achat_stats.merge(reservation_stats, left_on='Client_FK', right_on='ClientID_FK', how='outer')\n",
        "df_final = df_final.merge(voyage_stats, on='ClientID_FK', how='left')"
      ]
    },
    {
      "cell_type": "code",
      "execution_count": 13,
      "metadata": {
        "id": "R-t6xv-A7Wz2"
      },
      "outputs": [],
      "source": [
        "# 4. Remplir les NaN (0 si aucune réservation ou achat)\n",
        "df_final.fillna(0, inplace=True)"
      ]
    },
    {
      "cell_type": "code",
      "execution_count": 14,
      "metadata": {
        "id": "ngTReu_37Y36"
      },
      "outputs": [],
      "source": [
        "# 5. Sélection des variables explicatives\n",
        "features = ['montant_total_achat', 'nb_achats', 'montant_total_reservation',\n",
        "            'nb_reservations', 'note_moyenne', 'nb_jours_voyage']\n",
        "X = df_final[features]\n"
      ]
    },
    {
      "cell_type": "code",
      "execution_count": 15,
      "metadata": {
        "id": "xS8ZWoW87an_"
      },
      "outputs": [],
      "source": [
        "# 6. Standardisation\n",
        "scaler = StandardScaler()\n",
        "X_scaled = scaler.fit_transform(X)\n"
      ]
    },
    {
      "cell_type": "code",
      "execution_count": 16,
      "metadata": {
        "id": "wSyGYBbn7cJH"
      },
      "outputs": [],
      "source": [
        "# 7. KMeans Clustering\n",
        "kmeans = KMeans(n_clusters=3, random_state=42)\n",
        "df_final['cluster'] = kmeans.fit_predict(X_scaled)"
      ]
    },
    {
      "cell_type": "code",
      "execution_count": 17,
      "metadata": {
        "id": "nEb3v-6_7eb7"
      },
      "outputs": [],
      "source": [
        "# 8. Visualisation avec PCA\n",
        "pca = PCA(n_components=2)\n",
        "X_pca = pca.fit_transform(X_scaled)\n"
      ]
    },
    {
      "cell_type": "code",
      "execution_count": 18,
      "metadata": {
        "id": "8Sk4w-1J7gGq"
      },
      "outputs": [],
      "source": [
        "df_final['pca1'] = X_pca[:, 0]\n",
        "df_final['pca2'] = X_pca[:, 1]"
      ]
    },
    {
      "cell_type": "markdown",
      "metadata": {
        "id": "SBIB8yVM9pAn"
      },
      "source": [
        "pca1 =  axe global d'activité économique du client\n",
        "pca2 = axe qui represente la satisfaction du client ou le comportement de voyage  "
      ]
    },
    {
      "cell_type": "code",
      "execution_count": 19,
      "metadata": {
        "colab": {
          "base_uri": "https://localhost:8080/",
          "height": 564
        },
        "id": "ts7gdiKP7iVN",
        "outputId": "557e9f0e-a0e6-4cc8-a3be-da9cb829f8cb"
      },
      "outputs": [
        {
          "output_type": "display_data",
          "data": {
            "text/plain": [
              "<Figure size 1000x600 with 1 Axes>"
            ],
            "image/png": "[encoded data removed]"
          },
          "metadata": {}
        }
      ],
      "source": [
        "plt.figure(figsize=(10,6))\n",
        "sns.scatterplot(data=df_final, x='pca1', y='pca2', hue='cluster', palette='Set2')\n",
        "plt.title(\"Clustering des clients (PCA)\")\n",
        "plt.xlabel(\"Composante principale 1\")\n",
        "plt.ylabel(\"Composante principale 2\")\n",
        "plt.legend(title=\"Cluster\")\n",
        "plt.show()"
      ]
    },
    {
      "cell_type": "markdown",
      "metadata": {
        "id": "hGUDqwiz_esw"
      },
      "source": []
    },
    {
      "cell_type": "markdown",
      "metadata": {
        "id": "aCuueZ8p_alr"
      },
      "source": [
        "cluster 0 : représente la majorité des clients qui a un comportement moyen ou bien faible ( faible nombre de réservations/Achats , peu de dépenses )\n",
        "-> Cluster des clients Standars ou peu actifs\n",
        "cluster 1 : pca 1 plus grand probablement plus de dépenses ou plus de reservations\n",
        "avec un pca2 mlus faible cad moins de diversité dans les voyages\n",
        "-> cluster actif mais avec une experience ou comportement spécifique\n",
        "cluster 2 : pca1 et pca2 ont des valeurs grandes un seul client ou bien peu\n",
        "montant total d'achat/reservation tres gros notes\n",
        "-> Client VIP ou extrémes\n",
        "\n"
      ]
    },
    {
      "cell_type": "code",
      "execution_count": 20,
      "metadata": {
        "id": "oI62eqxe1yHI"
      },
      "outputs": [],
      "source": [
        "from sklearn.metrics import silhouette_score, davies_bouldin_score\n",
        "from sklearn.cluster import DBSCAN, AgglomerativeClustering"
      ]
    },
    {
      "cell_type": "code",
      "execution_count": 21,
      "metadata": {
        "id": "1-t4h97Z4I_E"
      },
      "outputs": [],
      "source": [
        "# ------------------- MÉTRIQUES K-MEANS -------------------\n",
        "inertie_kmeans = kmeans.inertia_\n",
        "silhouette_kmeans = silhouette_score(X_scaled, df_final['cluster'])\n",
        "db_index_kmeans = davies_bouldin_score(X_scaled, df_final['cluster'])"
      ]
    },
    {
      "cell_type": "code",
      "execution_count": 22,
      "metadata": {
        "colab": {
          "base_uri": "https://localhost:8080/"
        },
        "id": "h144ox0r53pi",
        "outputId": "e9e3ae87-a125-4e2b-def5-d409514ba6fa"
      },
      "outputs": [
        {
          "output_type": "stream",
          "name": "stdout",
          "text": [
            "🔷 Résultats K-Means\n",
            "Inertie : 4.94\n",
            "Silhouette Score : 0.908\n",
            "Davies-Bouldin Index : 0.066\n"
          ]
        }
      ],
      "source": [
        "print(\"🔷 Résultats K-Means\")\n",
        "print(f\"Inertie : {inertie_kmeans:.2f}\")\n",
        "print(f\"Silhouette Score : {silhouette_kmeans:.3f}\")\n",
        "print(f\"Davies-Bouldin Index : {db_index_kmeans:.3f}\")\n"
      ]
    },
    {
      "cell_type": "code",
      "execution_count": 23,
      "metadata": {
        "id": "77IlXSyJ56Ix"
      },
      "outputs": [],
      "source": [
        "# ------------------- DBSCAN -------------------\n",
        "dbscan = DBSCAN(eps=1.2, min_samples=5)\n",
        "dbscan_labels = dbscan.fit_predict(X_scaled)\n",
        "df_final['cluster_dbscan'] = dbscan_labels"
      ]
    },
    {
      "cell_type": "code",
      "execution_count": 24,
      "metadata": {
        "id": "SDZXnGSc59eg"
      },
      "outputs": [],
      "source": [
        "# Il se peut qu'il y ait des -1 (bruit), on vérifie que le clustering est significatif\n",
        "if len(set(dbscan_labels)) > 1:\n",
        "    silhouette_dbscan = silhouette_score(X_scaled, dbscan_labels)\n",
        "    db_index_dbscan = davies_bouldin_score(X_scaled, dbscan_labels)\n",
        "else:\n",
        "    silhouette_dbscan = None\n",
        "    db_index_dbscan = None"
      ]
    },
    {
      "cell_type": "code",
      "execution_count": 25,
      "metadata": {
        "colab": {
          "base_uri": "https://localhost:8080/"
        },
        "id": "794BjFKO5-VV",
        "outputId": "5206792b-6acf-4a4b-be8a-016e3fdc6467"
      },
      "outputs": [
        {
          "output_type": "stream",
          "name": "stdout",
          "text": [
            "\n",
            "🔶 Résultats DBSCAN\n",
            "Nombre de clusters (hors bruit) : 2\n",
            "Silhouette Score : 0.908\n",
            "Davies-Bouldin Index : 0.066\n"
          ]
        }
      ],
      "source": [
        "print(\"\\n🔶 Résultats DBSCAN\")\n",
        "print(f\"Nombre de clusters (hors bruit) : {len(set(dbscan_labels)) - (1 if -1 in dbscan_labels else 0)}\")\n",
        "print(f\"Silhouette Score : {silhouette_dbscan:.3f}\" if silhouette_dbscan else \"Silhouette Score : non applicable\")\n",
        "print(f\"Davies-Bouldin Index : {db_index_dbscan:.3f}\" if db_index_dbscan else \"Davies-Bouldin Index : non applicable\")\n"
      ]
    },
    {
      "cell_type": "code",
      "execution_count": 26,
      "metadata": {
        "id": "nXaQ9k9-6BuV"
      },
      "outputs": [],
      "source": [
        "# ------------------- Agglomerative Clustering -------------------\n",
        "agglo = AgglomerativeClustering(n_clusters=3)\n",
        "agglo_labels = agglo.fit_predict(X_scaled)\n",
        "df_final['cluster_agglo'] = agglo_labels"
      ]
    },
    {
      "cell_type": "code",
      "execution_count": 27,
      "metadata": {
        "colab": {
          "base_uri": "https://localhost:8080/"
        },
        "id": "WQMzXdMd6DrN",
        "outputId": "1064a95b-3a98-4dae-8d13-b9b62f5203fe"
      },
      "outputs": [
        {
          "output_type": "stream",
          "name": "stdout",
          "text": [
            "\n",
            "🔸 Résultats Agglomerative Clustering\n",
            "Silhouette Score : 0.908\n",
            "Davies-Bouldin Index : 0.066\n"
          ]
        }
      ],
      "source": [
        "silhouette_agglo = silhouette_score(X_scaled, agglo_labels)\n",
        "db_index_agglo = davies_bouldin_score(X_scaled, agglo_labels)\n",
        "\n",
        "print(\"\\n🔸 Résultats Agglomerative Clustering\")\n",
        "print(f\"Silhouette Score : {silhouette_agglo:.3f}\")\n",
        "print(f\"Davies-Bouldin Index : {db_index_agglo:.3f}\")"
      ]
    },
    {
      "cell_type": "code",
      "execution_count": 28,
      "metadata": {
        "colab": {
          "base_uri": "https://localhost:8080/"
        },
        "id": "oAk-SUpp6F-V",
        "outputId": "619107b2-1e40-40cc-f87c-61a25234efda"
      },
      "outputs": [
        {
          "output_type": "stream",
          "name": "stdout",
          "text": [
            "\n",
            "📋 Comparaison des algorithmes :\n",
            "      Algorithme  Silhouette Score  Davies-Bouldin Index\n",
            "0         KMeans          0.907982              0.065909\n",
            "1         DBSCAN          0.907982              0.065909\n",
            "2  Agglomerative          0.907982              0.065909\n"
          ]
        }
      ],
      "source": [
        "results_df = pd.DataFrame({\n",
        "    'Algorithme': ['KMeans', 'DBSCAN', 'Agglomerative'],\n",
        "    'Silhouette Score': [silhouette_kmeans, silhouette_dbscan if silhouette_dbscan else None, silhouette_agglo],\n",
        "    'Davies-Bouldin Index': [db_index_kmeans, db_index_dbscan if db_index_dbscan else None, db_index_agglo]\n",
        "})\n",
        "\n",
        "print(\"\\n📋 Comparaison des algorithmes :\")\n",
        "print(results_df)\n"
      ]
    },
    {
      "cell_type": "code",
      "source": [
        "# Sélectionner les colonnes à exporter\n",
        "colonnes_export = ['Client_FK', 'montant_total_achat', 'nb_achats',\n",
        "                   'montant_total_reservation', 'nb_reservations',\n",
        "                   'note_moyenne', 'nb_jours_voyage', 'cluster']\n",
        "\n",
        "# Export CSV\n",
        "df_final[colonnes_export].to_csv('resultats_kmeans_clients.csv', index=False)\n",
        "\n",
        "# Télécharger dans Google Colab\n",
        "files.download('resultats_kmeans_clients.csv')\n"
      ],
      "metadata": {
        "colab": {
          "base_uri": "https://localhost:8080/",
          "height": 17
        },
        "id": "nhf81iXB31dT",
        "outputId": "4c38a92e-7dd6-4f1f-e97b-76d2e3aa778b"
      },
      "execution_count": 29,
      "outputs": [
        {
          "output_type": "display_data",
          "data": {
            "text/plain": [
              "<IPython.core.display.Javascript object>"
            ],
            "application/javascript": [
              "\n",
              "    async function download(id, filename, size) {\n",
              "      if (!google.colab.kernel.accessAllowed) {\n",
              "        return;\n",
              "      }\n",
              "      const div = document.createElement('div');\n",
              "      const label = document.createElement('label');\n",
              "      label.textContent = `Downloading \"${filename}\": `;\n",
              "      div.appendChild(label);\n",
              "      const progress = document.createElement('progress');\n",
              "      progress.max = size;\n",
              "      div.appendChild(progress);\n",
              "      document.body.appendChild(div);\n",
              "\n",
              "      const buffers = [];\n",
              "      let downloaded = 0;\n",
              "\n",
              "      const channel = await google.colab.kernel.comms.open(id);\n",
              "      // Send a message to notify the kernel that we're ready.\n",
              "      channel.send({})\n",
              "\n",
              "      for await (const message of channel.messages) {\n",
              "        // Send a message to notify the kernel that we're ready.\n",
              "        channel.send({})\n",
              "        if (message.buffers) {\n",
              "          for (const buffer of message.buffers) {\n",
              "            buffers.push(buffer);\n",
              "            downloaded += buffer.byteLength;\n",
              "            progress.value = downloaded;\n",
              "          }\n",
              "        }\n",
              "      }\n",
              "      const blob = new Blob(buffers, {type: 'application/binary'});\n",
              "      const a = document.createElement('a');\n",
              "      a.href = window.URL.createObjectURL(blob);\n",
              "      a.download = filename;\n",
              "      div.appendChild(a);\n",
              "      a.click();\n",
              "      div.remove();\n",
              "    }\n",
              "  "
            ]
          },
          "metadata": {}
        },
        {
          "output_type": "display_data",
          "data": {
            "text/plain": [
              "<IPython.core.display.Javascript object>"
            ],
            "application/javascript": [
              "download(\"download_cbe059ae-c843-4770-821c-96569fc4dfdc\", \"resultats_kmeans_clients.csv\", 3444)"
            ]
          },
          "metadata": {}
        }
      ]
    },
    {
      "cell_type": "code",
      "source": [
        "# Supprimer les clients avec clé invalide (0 ou null)\n",
        "df_faitAchat = df_faitAchat[df_faitAchat['Client_FK'] > 0]\n",
        "df_faitReservation = df_faitReservation[df_faitReservation['ClientID_FK'] > 0]\n"
      ],
      "metadata": {
        "id": "pxeOQBBc4lK-"
      },
      "execution_count": 30,
      "outputs": []
    },
    {
      "cell_type": "code",
      "source": [
        "# Supprimer les lignes où aucun identifiant client n'est défini\n",
        "df_final = df_final[df_final['Client_FK'].notna() & (df_final['Client_FK'] > 0)]\n"
      ],
      "metadata": {
        "id": "wM5oxr6H4mi0"
      },
      "execution_count": 31,
      "outputs": []
    },
    {
      "cell_type": "code",
      "source": [
        "df_final['Client_FK'] = df_final['Client_FK'].astype(int)\n"
      ],
      "metadata": {
        "id": "g1-HAd7Q4o69"
      },
      "execution_count": 32,
      "outputs": []
    },
    {
      "cell_type": "code",
      "source": [
        "colonnes_export = ['Client_FK', 'montant_total_achat', 'nb_achats',\n",
        "                   'montant_total_reservation', 'nb_reservations',\n",
        "                   'note_moyenne', 'nb_jours_voyage', 'cluster']\n",
        "df_final[colonnes_export].to_csv('resultats_kmeans_clients.csv', index=False)\n",
        "files.download('resultats_kmeans_clients.csv')\n"
      ],
      "metadata": {
        "colab": {
          "base_uri": "https://localhost:8080/",
          "height": 17
        },
        "id": "j9PS7M5B4q97",
        "outputId": "a1e69c7c-f0fc-4be3-e2f2-03bdbfa5ad56"
      },
      "execution_count": 33,
      "outputs": [
        {
          "output_type": "display_data",
          "data": {
            "text/plain": [
              "<IPython.core.display.Javascript object>"
            ],
            "application/javascript": [
              "\n",
              "    async function download(id, filename, size) {\n",
              "      if (!google.colab.kernel.accessAllowed) {\n",
              "        return;\n",
              "      }\n",
              "      const div = document.createElement('div');\n",
              "      const label = document.createElement('label');\n",
              "      label.textContent = `Downloading \"${filename}\": `;\n",
              "      div.appendChild(label);\n",
              "      const progress = document.createElement('progress');\n",
              "      progress.max = size;\n",
              "      div.appendChild(progress);\n",
              "      document.body.appendChild(div);\n",
              "\n",
              "      const buffers = [];\n",
              "      let downloaded = 0;\n",
              "\n",
              "      const channel = await google.colab.kernel.comms.open(id);\n",
              "      // Send a message to notify the kernel that we're ready.\n",
              "      channel.send({})\n",
              "\n",
              "      for await (const message of channel.messages) {\n",
              "        // Send a message to notify the kernel that we're ready.\n",
              "        channel.send({})\n",
              "        if (message.buffers) {\n",
              "          for (const buffer of message.buffers) {\n",
              "            buffers.push(buffer);\n",
              "            downloaded += buffer.byteLength;\n",
              "            progress.value = downloaded;\n",
              "          }\n",
              "        }\n",
              "      }\n",
              "      const blob = new Blob(buffers, {type: 'application/binary'});\n",
              "      const a = document.createElement('a');\n",
              "      a.href = window.URL.createObjectURL(blob);\n",
              "      a.download = filename;\n",
              "      div.appendChild(a);\n",
              "      a.click();\n",
              "      div.remove();\n",
              "    }\n",
              "  "
            ]
          },
          "metadata": {}
        },
        {
          "output_type": "display_data",
          "data": {
            "text/plain": [
              "<IPython.core.display.Javascript object>"
            ],
            "application/javascript": [
              "download(\"download_5c2557d1-0fd7-4b1b-8934-5d13472e8eb3\", \"resultats_kmeans_clients.csv\", 2747)"
            ]
          },
          "metadata": {}
        }
      ]
    },
    {
      "cell_type": "code",
      "source": [
        "# Supprimer les lignes avec Client_FK ou ClientID_FK nul ou vide\n",
        "df_faitAchat = df_faitAchat[df_faitAchat['Client_FK'].notna() & (df_faitAchat['Client_FK'] > 0)]\n",
        "df_faitReservation = df_faitReservation[df_faitReservation['ClientID_FK'].notna() & (df_faitReservation['ClientID_FK'] > 0)]\n"
      ],
      "metadata": {
        "id": "IIXsnrhc5PCS"
      },
      "execution_count": null,
      "outputs": []
    },
    {
      "cell_type": "code",
      "source": [
        "df_faitAchat['Client_FK'] = df_faitAchat['Client_FK'].astype(int)\n",
        "df_faitReservation['ClientID_FK'] = df_faitReservation['ClientID_FK'].astype(int)\n"
      ],
      "metadata": {
        "id": "YOZng9x-5Plk"
      },
      "execution_count": 34,
      "outputs": []
    },
    {
      "cell_type": "code",
      "source": [
        "achat_stats = df_faitAchat.groupby('Client_FK').agg(\n",
        "    montant_total_achat=('Prix_Total', 'sum'),\n",
        "    nb_achats=('AchatID_PK', 'count')\n",
        ").reset_index()\n",
        "\n",
        "reservation_stats = df_faitReservation.groupby('ClientID_FK').agg(\n",
        "    montant_total_reservation=('Total_Prix', 'sum'),\n",
        "    nb_reservations=('Reservation_PK', 'count'),\n",
        "    note_moyenne=('Note_Client', 'mean')\n",
        ").reset_index()\n"
      ],
      "metadata": {
        "id": "LLwPE-DP5Rut"
      },
      "execution_count": 35,
      "outputs": []
    },
    {
      "cell_type": "code",
      "source": [
        "# Fusion achat + réservation\n",
        "df_final = achat_stats.merge(reservation_stats, left_on='Client_FK', right_on='ClientID_FK', how='left')\n",
        "\n",
        "# Fusion avec nb jours de voyage\n",
        "df_faitReservation = df_faitReservation.merge(df_temps, left_on='Temps_FK', right_on='TempsID')\n",
        "voyage_stats = df_faitReservation.groupby('ClientID_FK').agg(\n",
        "    nb_jours_voyage=('Date_Complète', 'nunique')\n",
        ").reset_index()\n",
        "\n",
        "df_final = df_final.merge(voyage_stats, on='ClientID_FK', how='left')\n"
      ],
      "metadata": {
        "id": "4FZxutUt5Vcg"
      },
      "execution_count": 37,
      "outputs": []
    },
    {
      "cell_type": "code",
      "source": [
        "df_final.fillna({\n",
        "    'montant_total_reservation': 0,\n",
        "    'nb_reservations': 0,\n",
        "    'note_moyenne': 0,\n",
        "    'nb_jours_voyage': 0\n",
        "}, inplace=True)\n"
      ],
      "metadata": {
        "id": "DDbTyWYu5pmu"
      },
      "execution_count": 38,
      "outputs": []
    },
    {
      "cell_type": "code",
      "source": [
        "from sklearn.preprocessing import StandardScaler\n",
        "from sklearn.cluster import KMeans\n",
        "\n",
        "# 1. Sélection des variables explicatives\n",
        "features = ['montant_total_achat', 'nb_achats', 'montant_total_reservation',\n",
        "            'nb_reservations', 'note_moyenne', 'nb_jours_voyage']\n",
        "\n",
        "X = df_final[features]\n",
        "\n",
        "# 2. Standardisation des données\n",
        "scaler = StandardScaler()\n",
        "X_scaled = scaler.fit_transform(X)\n",
        "\n",
        "# 3. Clustering avec KMeans\n",
        "kmeans = KMeans(n_clusters=3, random_state=42)\n",
        "df_final['cluster'] = kmeans.fit_predict(X_scaled)\n"
      ],
      "metadata": {
        "id": "m9gb-fFU5ruQ"
      },
      "execution_count": 39,
      "outputs": []
    },
    {
      "cell_type": "code",
      "source": [
        "for col in ['montant_total_reservation', 'nb_reservations', 'note_moyenne', 'nb_jours_voyage']:\n",
        "    moyenne = df_final[col].mean()\n",
        "    df_final[col].fillna(moyenne, inplace=True)\n"
      ],
      "metadata": {
        "colab": {
          "base_uri": "https://localhost:8080/"
        },
        "id": "DSjsG0bf6fFh",
        "outputId": "3209932a-8bf2-493f-baf6-c9eba5554ef3"
      },
      "execution_count": 41,
      "outputs": [
        {
          "output_type": "stream",
          "name": "stderr",
          "text": [
            "<ipython-input-41-5eafe72655dd>:3: FutureWarning: A value is trying to be set on a copy of a DataFrame or Series through chained assignment using an inplace method.\n",
            "The behavior will change in pandas 3.0. This inplace method will never work because the intermediate object on which we are setting values always behaves as a copy.\n",
            "\n",
            "For example, when doing 'df[col].method(value, inplace=True)', try using 'df.method({col: value}, inplace=True)' or df[col] = df[col].method(value) instead, to perform the operation inplace on the original object.\n",
            "\n",
            "\n",
            "  df_final[col].fillna(moyenne, inplace=True)\n"
          ]
        }
      ]
    },
    {
      "cell_type": "code",
      "source": [
        "# Optionnel : ne garder que les colonnes utiles\n",
        "colonnes_export = ['Client_FK'] + features + ['cluster']\n",
        "df_final[colonnes_export].to_csv('resultats_kmeans_clients.csv', index=False)\n"
      ],
      "metadata": {
        "id": "aa4x7onY50hl"
      },
      "execution_count": 42,
      "outputs": []
    }
  ],
  "metadata": {
    "colab": {
      "provenance": []
    },
    "kernelspec": {
      "display_name": "Python 3",
      "name": "python3"
    },
    "language_info": {
      "name": "python"
    }
  },
  "nbformat": 4,
  "nbformat_minor": 0
}